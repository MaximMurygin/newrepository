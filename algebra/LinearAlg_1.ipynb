{
 "cells": [
  {
   "cell_type": "code",
   "execution_count": 1,
   "metadata": {},
   "outputs": [],
   "source": [
    "import numpy as np\n",
    "import matplotlib.pyplot as plt"
   ]
  },
  {
   "cell_type": "markdown",
   "metadata": {},
   "source": [
    "## Даны вектора x = (1,1), y = (2, 0) и z = (0,2)\n",
    "## Надо:\n",
    "## Изобразить вектора на экране\n",
    "## Изобразить точку x + y + z\n",
    "## Найти угол между векторами x и y"
   ]
  },
  {
   "cell_type": "code",
   "execution_count": 95,
   "metadata": {},
   "outputs": [
    {
     "data": {
      "text/plain": [
       "array([3., 3.])"
      ]
     },
     "execution_count": 95,
     "metadata": {},
     "output_type": "execute_result"
    }
   ],
   "source": [
    "x = np.array([1., 1.])\n",
    "y = np.array([2., 0])\n",
    "z = np.array([0, 2.])\n",
    "xyz = x + y + z\n",
    "xyz"
   ]
  },
  {
   "cell_type": "code",
   "execution_count": 114,
   "metadata": {},
   "outputs": [
    {
     "data": {
      "text/plain": [
       "Text(2.9, 2.8, 'xyz')"
      ]
     },
     "execution_count": 114,
     "metadata": {},
     "output_type": "execute_result"
    },
    {
     "data": {
      "text/plain": [
       "<Figure size 432x288 with 0 Axes>"
      ]
     },
     "metadata": {},
     "output_type": "display_data"
    },
    {
     "data": {
      "image/png": "[encoded data removed]",
      "text/plain": [
       "<Figure size 432x288 with 1 Axes>"
      ]
     },
     "metadata": {
      "needs_background": "light"
     },
     "output_type": "display_data"
    }
   ],
   "source": [
    "plt.figure()\n",
    "fig, ax = plt.subplots()\n",
    "plt.plot([0, x[0]],[0, x[1]])\n",
    "plt.plot([0, y[0]],[0, y[1]])\n",
    "plt.plot([0, z[0]],[0, z[1]])\n",
    "plt.plot(xyz[0],xyz[1], 'o')\n",
    "plt.grid()\n",
    "ax.text(2.9,2.8, 'xyz', fontsize=12)"
   ]
  },
  {
   "cell_type": "code",
   "execution_count": 97,
   "metadata": {},
   "outputs": [
    {
     "name": "stdout",
     "output_type": "stream",
     "text": [
      "длина вектора x равна 1.4142135623730951\n"
     ]
    }
   ],
   "source": [
    "len_x = np.sqrt((x[0])**2 + (x[1])**2)\n",
    "print(f'длина вектора x равна {len_x}')"
   ]
  },
  {
   "cell_type": "code",
   "execution_count": 98,
   "metadata": {},
   "outputs": [
    {
     "name": "stdout",
     "output_type": "stream",
     "text": [
      "длина вектора y равна 2.0\n"
     ]
    }
   ],
   "source": [
    "len_y = np.sqrt((y[0])**2 + (y[1])**2)\n",
    "print(f'длина вектора y равна {len_y}')"
   ]
  },
  {
   "cell_type": "code",
   "execution_count": 99,
   "metadata": {},
   "outputs": [],
   "source": [
    "m = np.array([y[0]-x[0], y[1] - x[1]])\n",
    "n = np.array([x[0]-y[0], x[1] - y[1]])\n",
    "dot = np.dot(x,y)/(len_x*len_y)"
   ]
  },
  {
   "cell_type": "code",
   "execution_count": 100,
   "metadata": {},
   "outputs": [
    {
     "name": "stdout",
     "output_type": "stream",
     "text": [
      "угол равен 45.0 градусов\n"
     ]
    }
   ],
   "source": [
    "ang = np.arccos(dot) * 360 / 2 / np.pi\n",
    "print(f'угол равен {round(ang,2)} градусов')\n"
   ]
  },
  {
   "cell_type": "code",
   "execution_count": null,
   "metadata": {},
   "outputs": [],
   "source": []
  },
  {
   "cell_type": "code",
   "execution_count": null,
   "metadata": {},
   "outputs": [],
   "source": []
  },
  {
   "cell_type": "code",
   "execution_count": null,
   "metadata": {},
   "outputs": [],
   "source": []
  }
 ],
 "metadata": {
  "kernelspec": {
   "display_name": "Python 3",
   "language": "python",
   "name": "python3"
  },
  "language_info": {
   "codemirror_mode": {
    "name": "ipython",
    "version": 3
   },
   "file_extension": ".py",
   "mimetype": "text/x-python",
   "name": "python",
   "nbconvert_exporter": "python",
   "pygments_lexer": "ipython3",
   "version": "3.8.3"
  }
 },
 "nbformat": 4,
 "nbformat_minor": 4
}
