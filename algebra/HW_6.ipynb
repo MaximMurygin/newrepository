{
 "cells": [
  {
   "cell_type": "code",
   "execution_count": 37,
   "metadata": {},
   "outputs": [],
   "source": [
    "import numpy as np"
   ]
  },
  {
   "cell_type": "markdown",
   "metadata": {},
   "source": [
    "#### Задание 1:\n",
    "#### Монетку подбрасывают 15 раз, найдите вероятность выпадения простого числа орлов."
   ]
  },
  {
   "cell_type": "code",
   "execution_count": 59,
   "metadata": {},
   "outputs": [
    {
     "name": "stdout",
     "output_type": "stream",
     "text": [
      "[2, 3, 5, 7, 11, 13]\n"
     ]
    }
   ],
   "source": [
    "n=15\n",
    "lst = []\n",
    "k = 0\n",
    "for i in range(2, n+1):\n",
    "    for j in range(2, i):\n",
    "        if i % j == 0:\n",
    "            k = k + 1\n",
    "    if k == 0:\n",
    "        lst.append(i)\n",
    "    else:\n",
    "        k = 0\n",
    "print(lst)"
   ]
  },
  {
   "cell_type": "code",
   "execution_count": 60,
   "metadata": {},
   "outputs": [
    {
     "data": {
      "text/plain": [
       "0.003204345703125"
      ]
     },
     "execution_count": 60,
     "metadata": {},
     "output_type": "execute_result"
    }
   ],
   "source": [
    "# шанс выпадения 13\n",
    "a = np.math.factorial(15)/(np.math.factorial(13)*np.math.factorial(2))/(2**15)\n",
    "a"
   ]
  },
  {
   "cell_type": "code",
   "execution_count": 61,
   "metadata": {},
   "outputs": [
    {
     "data": {
      "text/plain": [
       "0.041656494140625"
      ]
     },
     "execution_count": 61,
     "metadata": {},
     "output_type": "execute_result"
    }
   ],
   "source": [
    "# шанс выпадения 11\n",
    "b = np.math.factorial(15)/(np.math.factorial(11)*np.math.factorial(4))/(2**15)\n",
    "b"
   ]
  },
  {
   "cell_type": "code",
   "execution_count": 66,
   "metadata": {},
   "outputs": [
    {
     "data": {
      "text/plain": [
       "0.196380615234375"
      ]
     },
     "execution_count": 66,
     "metadata": {},
     "output_type": "execute_result"
    }
   ],
   "source": [
    "# шанс выпадения 17\n",
    "c = np.math.factorial(15)/(np.math.factorial(7)*np.math.factorial(8))/(2**15)\n",
    "c"
   ]
  },
  {
   "cell_type": "code",
   "execution_count": 62,
   "metadata": {},
   "outputs": [
    {
     "data": {
      "text/plain": [
       "0.091644287109375"
      ]
     },
     "execution_count": 62,
     "metadata": {},
     "output_type": "execute_result"
    }
   ],
   "source": [
    "# шанс выпадения 5\n",
    "d = (np.math.factorial(15)/(np.math.factorial(5)*np.math.factorial(10)))/(2**15)\n",
    "d"
   ]
  },
  {
   "cell_type": "code",
   "execution_count": 63,
   "metadata": {},
   "outputs": [
    {
     "data": {
      "text/plain": [
       "0.013885498046875"
      ]
     },
     "execution_count": 63,
     "metadata": {},
     "output_type": "execute_result"
    }
   ],
   "source": [
    "# шанс выпадения 3\n",
    "e = (np.math.factorial(15)/(np.math.factorial(3)*np.math.factorial(12)))/(2**15)\n",
    "e"
   ]
  },
  {
   "cell_type": "code",
   "execution_count": 64,
   "metadata": {},
   "outputs": [
    {
     "data": {
      "text/plain": [
       "0.003204345703125"
      ]
     },
     "execution_count": 64,
     "metadata": {},
     "output_type": "execute_result"
    }
   ],
   "source": [
    "# шанс выпадения 2\n",
    "f = (np.math.factorial(15)/(np.math.factorial(2)*np.math.factorial(13)))/(2**15)\n",
    "f"
   ]
  },
  {
   "cell_type": "code",
   "execution_count": 87,
   "metadata": {},
   "outputs": [
    {
     "name": "stdout",
     "output_type": "stream",
     "text": [
      "34.998 %\n"
     ]
    }
   ],
   "source": [
    "res = a + b + c + d + e + f\n",
    "print(round(res*100, 3), '%')"
   ]
  },
  {
   "cell_type": "markdown",
   "metadata": {},
   "source": [
    "#### Задание 2:\n",
    "#### Создайте свою дискретную случайную величину с не менее, чем 10 значениями. \n",
    "#### Просемплируйте 1000 случайных значений, постройте гистограмму плотности распределения по выборке, \n",
    "#### посчитайте среднее, дисперсию и медиану."
   ]
  },
  {
   "cell_type": "code",
   "execution_count": 88,
   "metadata": {},
   "outputs": [
    {
     "data": {
      "text/plain": [
       "array([ 8,  6,  9,  7,  3,  2,  8,  9,  1,  8,  2,  1,  3,  3,  6,  8,  1,\n",
       "        6,  8,  2,  3,  4,  6,  4,  1,  1,  7,  6,  4,  6,  3,  1, 10,  6,\n",
       "        4,  9, 10,  3,  7,  3,  4, 10,  7,  3,  3,  9,  9,  9,  9,  7,  6,\n",
       "        3,  5,  4,  5,  4,  9, 10, 10,  7,  9,  9, 10,  4,  4,  6,  8,  1,\n",
       "        2,  4,  6,  3,  7,  6,  4,  7, 10,  3,  6,  4,  3,  5,  6,  9,  2,\n",
       "        2,  5, 10,  4,  6,  1,  5,  4,  1,  6,  1,  1,  1,  4,  6,  9,  4,\n",
       "        1,  7,  6, 10,  7,  9,  9,  1,  3,  8,  1,  6,  8,  7,  9,  1,  8,\n",
       "        9,  8,  4,  3,  4,  6,  1,  5, 10,  8,  7, 10,  4,  1,  6,  8,  8,\n",
       "        7,  2,  4,  9,  3,  6,  7,  6,  2, 10,  8,  5,  5,  5,  3,  9,  9,\n",
       "       10,  4,  8,  9,  8,  8, 10,  8,  8,  8,  5,  7,  4,  9,  1,  7,  9,\n",
       "       10,  8,  5,  8,  3,  1,  6,  4,  6,  6,  7,  9,  9,  7,  3,  2,  4,\n",
       "        1,  8,  3,  9, 10,  2,  9,  5,  4,  1,  4,  4,  3,  8,  7,  9,  2,\n",
       "        5,  1,  5,  1,  9,  7,  8,  8,  5,  4,  2, 10,  2,  5,  4,  7,  8,\n",
       "        4,  3,  4,  6,  6,  8,  6,  5, 10,  2,  9,  6,  1,  1,  2,  2,  1,\n",
       "        8,  1,  1,  7, 10,  9,  6,  7,  4,  7,  2,  5,  2,  4, 10,  6,  1,\n",
       "        6,  4,  7,  2,  4,  1,  7,  9, 10,  5,  8,  3,  6,  2,  9,  8,  1,\n",
       "        5,  8,  5,  5,  1,  9,  9,  4, 10,  9,  8,  3,  1,  3,  2, 10,  8,\n",
       "       10,  6,  8,  3,  2,  1,  5,  3,  5, 10,  2,  3,  8,  6,  8,  4,  4,\n",
       "        4,  6,  1,  3,  3,  9,  2,  5,  6,  4,  3,  9,  4,  6,  4,  4,  5,\n",
       "       10,  4,  1,  5,  4,  2,  7,  5,  4,  6,  9,  2,  1,  7,  6,  4, 10,\n",
       "       10,  3, 10,  7,  3,  6,  1, 10, 10,  1,  8,  8,  3, 10,  6,  5,  8,\n",
       "        3,  6,  9,  9,  1, 10,  1,  1,  3, 10,  6,  8, 10,  2,  8,  2,  7,\n",
       "        6, 10, 10,  6,  9,  2,  4,  8,  7,  5,  9,  6,  3,  6,  5,  9,  6,\n",
       "        2,  8,  8,  6,  5,  5, 10,  4,  6,  3,  5, 10,  9,  4,  5,  4,  1,\n",
       "        1,  4,  3,  4,  3,  1,  2,  1,  2,  7,  2,  8,  3,  6,  6,  5,  3,\n",
       "        8,  5,  7,  9,  1,  1,  7,  5,  7,  7,  9,  4,  7,  3,  3,  9,  6,\n",
       "       10,  3,  8,  4,  4,  8,  1,  7,  2,  3,  9,  4,  1,  2, 10,  9,  9,\n",
       "        5,  6,  6,  5,  3,  7,  1,  1,  2,  8,  6,  2, 10,  6,  1,  4,  1,\n",
       "        8,  3,  8,  7,  3,  8,  9,  5, 10,  8,  3,  5,  5,  7, 10,  6,  7,\n",
       "       10,  4,  7,  9,  8,  3, 10,  5,  6,  1, 10,  9,  3,  8,  9,  4,  6,\n",
       "        9,  5,  9,  1, 10,  7,  3,  5,  6, 10,  5, 10,  5,  7,  4,  3,  5,\n",
       "        9,  2,  7,  4,  8,  6,  8,  1,  1,  1,  9,  5,  8,  2,  6,  5,  5,\n",
       "        1,  4,  3,  9,  5,  8,  6,  3,  8,  5,  3,  5,  9,  7,  5, 10,  4,\n",
       "        6,  3,  6,  8,  1,  5,  8, 10,  7,  6,  3,  2,  1,  7,  8,  3,  9,\n",
       "        4,  6,  8,  9,  1,  4,  2,  2,  6,  6,  7,  5,  7,  4,  5,  6,  1,\n",
       "        6,  3,  4,  6,  4,  5,  2,  7,  6, 10,  8,  4,  8,  7,  3,  5,  4,\n",
       "        1,  9,  5,  7,  3,  3, 10,  1,  8,  8,  4,  6,  2,  8,  5,  2,  4,\n",
       "        5,  4,  6,  8,  2, 10,  5,  8,  1,  6,  7, 10,  5,  1,  3,  9,  7,\n",
       "        9,  1,  8, 10,  8,  8,  2,  9,  9,  9,  5,  9, 10,  5,  7,  3,  1,\n",
       "        9, 10,  7,  7,  6,  5,  5, 10,  5,  9,  8,  2,  1, 10,  8,  2,  1,\n",
       "       10,  5,  2,  1,  8,  9,  3,  4, 10,  9,  5, 10, 10,  9,  6,  2, 10,\n",
       "        2,  2,  9,  4,  2,  9,  3, 10,  7,  8,  8,  8,  3,  2,  7,  3,  8,\n",
       "        5,  6,  9,  6,  2,  1,  7,  1,  5,  1,  3,  1,  3,  9,  3,  2,  6,\n",
       "        8,  6,  6,  1, 10,  4,  3, 10,  4,  5,  3,  9,  6,  5, 10,  1,  1,\n",
       "        9,  9,  6,  7,  8,  4,  8,  3,  4,  7,  3, 10,  5,  7,  4,  5, 10,\n",
       "        6,  6, 10,  6,  2,  8,  5,  7,  8,  9,  1,  7,  7, 10,  5,  7,  4,\n",
       "        2,  5,  9,  1,  1,  7,  7,  4,  6,  5,  8,  6,  6,  8,  1,  6,  5,\n",
       "        7,  2,  3, 10,  8,  7,  1,  5,  7,  4,  7,  3,  6,  8,  3,  9,  3,\n",
       "        6,  5,  6,  7,  5, 10,  3, 10,  5,  6,  7,  1, 10,  2,  5,  9,  1,\n",
       "        8, 10,  4,  4,  7,  8,  4,  8,  6,  9,  8,  1,  8,  3,  3,  3,  4,\n",
       "       10,  5,  6,  8,  8,  7,  6,  3,  8,  2,  5,  5,  7,  7,  7,  2,  4,\n",
       "        8,  5,  4,  1,  3,  1,  7,  6,  1,  2,  5,  6,  8,  5,  1,  1,  9,\n",
       "        8, 10,  1,  1,  8, 10,  8, 10,  5,  1,  8,  1,  6,  9,  7,  4,  6,\n",
       "        4,  4,  4,  1,  1,  5,  1,  4,  6,  6, 10,  1,  5,  7,  7,  7,  2,\n",
       "        5,  1, 10,  5, 10,  4,  9,  8,  3,  8,  2,  1,  3,  8,  6,  8,  7,\n",
       "        1, 10,  6,  4,  9,  9,  7,  7,  5,  4,  5,  9,  8,  9,  3,  4,  9,\n",
       "        7,  2,  6,  8,  9,  4,  8,  8,  6,  2,  2, 10,  5,  2,  7,  4,  9,\n",
       "        9,  2, 10,  9,  1,  9,  7,  3,  9,  7,  8,  8,  6, 10,  7,  8,  9,\n",
       "        8,  3,  1,  3,  9,  4,  5, 10,  3, 10,  1,  7, 10,  5])"
      ]
     },
     "execution_count": 88,
     "metadata": {},
     "output_type": "execute_result"
    }
   ],
   "source": [
    "x = numpy.random.randint(1, 11, size=1000)\n",
    "x"
   ]
  },
  {
   "cell_type": "code",
   "execution_count": 89,
   "metadata": {},
   "outputs": [
    {
     "data": {
      "text/plain": [
       "Text(0, 0.5, 'Количества раз')"
      ]
     },
     "execution_count": 89,
     "metadata": {},
     "output_type": "execute_result"
    },
    {
     "data": {
      "image/png": "[encoded data removed]",
      "text/plain": [
       "<Figure size 432x288 with 1 Axes>"
      ]
     },
     "metadata": {
      "needs_background": "light"
     },
     "output_type": "display_data"
    }
   ],
   "source": [
    "import pylab\n",
    "\n",
    "pylab.hist(x, bins=10, edgecolor='black')\n",
    "\n",
    "pylab.xlabel('Значение')\n",
    "pylab.ylabel('Количества раз')"
   ]
  },
  {
   "cell_type": "code",
   "execution_count": 90,
   "metadata": {},
   "outputs": [
    {
     "data": {
      "text/plain": [
       "(6.0, 5.593, 7.999351)"
      ]
     },
     "execution_count": 90,
     "metadata": {},
     "output_type": "execute_result"
    }
   ],
   "source": [
    "np.median(x), np.mean(x), np.var(x)"
   ]
  },
  {
   "cell_type": "markdown",
   "metadata": {},
   "source": [
    "#### Задание 3:\n",
    "#### Пусть брошены 3 уравновешенные монеты.\n",
    "#### Рассмотрим 3 события:\n",
    "#### A1 - монеты 1 и 2 упали одной и той же стороной;\n",
    "#### A2 - монеты 2 и 3 упали одной и той же стороной;\n",
    "#### A3 - монеты 1 и 3 упали одной и той же стороной.\n",
    "#### Покажите, почему эти 3 события (A1, A2, A3) являются попарно независимыми, но не являются независимыми в совокупности."
   ]
  },
  {
   "cell_type": "code",
   "execution_count": null,
   "metadata": {},
   "outputs": [],
   "source": []
  },
  {
   "cell_type": "markdown",
   "metadata": {},
   "source": [
    "#### Задание 4 (формула полной вероятности):\n",
    "#### В магазин привезли устройства с 3-х разных предприятий.\n",
    "#### Соотношение устройств следующее: 20% - продукция первого предприятия, 30% - продукция второго предприятия, 50% - продукция третьего предприятия; далее, 10% продукции первого предприятия высшего сорта, на втором предприятии - 5% и на третьем - 20% продукции высшего сорта.\n",
    "#### Найти вероятность того, что случайно купленная новая продукция окажется высшего сорта."
   ]
  },
  {
   "cell_type": "code",
   "execution_count": 95,
   "metadata": {},
   "outputs": [
    {
     "name": "stdout",
     "output_type": "stream",
     "text": [
      "вероятность купить продукцию высшего сорта:  13.5 %\n"
     ]
    }
   ],
   "source": [
    "prod1 = 20\n",
    "prod2 = 30\n",
    "prod3 = 50\n",
    "hq1 = 0.1\n",
    "hq2 = 0.05\n",
    "hq3 = 0.2\n",
    "result = prod1*hq1 + prod2*hq2 + prod3*hq3\n",
    "print('вероятность купить продукцию высшего сорта: ', result, '%')"
   ]
  },
  {
   "cell_type": "code",
   "execution_count": null,
   "metadata": {},
   "outputs": [],
   "source": []
  }
 ],
 "metadata": {
  "kernelspec": {
   "display_name": "Python 3",
   "language": "python",
   "name": "python3"
  },
  "language_info": {
   "codemirror_mode": {
    "name": "ipython",
    "version": 3
   },
   "file_extension": ".py",
   "mimetype": "text/x-python",
   "name": "python",
   "nbconvert_exporter": "python",
   "pygments_lexer": "ipython3",
   "version": "3.8.3"
  }
 },
 "nbformat": 4,
 "nbformat_minor": 4
}
