{
 "cells": [
  {
   "cell_type": "code",
   "execution_count": 3,
   "metadata": {},
   "outputs": [],
   "source": [
    "import numpy as np"
   ]
  },
  {
   "cell_type": "markdown",
   "metadata": {},
   "source": [
    "#### Задание 1:\n",
    "#### Монетку подбрасывают 15 раз, найдите вероятность выпадения простого числа орлов."
   ]
  },
  {
   "cell_type": "code",
   "execution_count": 59,
   "metadata": {},
   "outputs": [
    {
     "name": "stdout",
     "output_type": "stream",
     "text": [
      "[2, 3, 5, 7, 11, 13]\n"
     ]
    }
   ],
   "source": [
    "n=15\n",
    "lst = []\n",
    "k = 0\n",
    "for i in range(2, n+1):\n",
    "    for j in range(2, i):\n",
    "        if i % j == 0:\n",
    "            k = k + 1\n",
    "    if k == 0:\n",
    "        lst.append(i)\n",
    "    else:\n",
    "        k = 0\n",
    "print(lst)"
   ]
  },
  {
   "cell_type": "code",
   "execution_count": 60,
   "metadata": {},
   "outputs": [
    {
     "data": {
      "text/plain": [
       "0.003204345703125"
      ]
     },
     "execution_count": 60,
     "metadata": {},
     "output_type": "execute_result"
    }
   ],
   "source": [
    "# шанс выпадения 13\n",
    "a = np.math.factorial(15)/(np.math.factorial(13)*np.math.factorial(2))/(2**15)\n",
    "a"
   ]
  },
  {
   "cell_type": "code",
   "execution_count": 61,
   "metadata": {},
   "outputs": [
    {
     "data": {
      "text/plain": [
       "0.041656494140625"
      ]
     },
     "execution_count": 61,
     "metadata": {},
     "output_type": "execute_result"
    }
   ],
   "source": [
    "# шанс выпадения 11\n",
    "b = np.math.factorial(15)/(np.math.factorial(11)*np.math.factorial(4))/(2**15)\n",
    "b"
   ]
  },
  {
   "cell_type": "code",
   "execution_count": 66,
   "metadata": {},
   "outputs": [
    {
     "data": {
      "text/plain": [
       "0.196380615234375"
      ]
     },
     "execution_count": 66,
     "metadata": {},
     "output_type": "execute_result"
    }
   ],
   "source": [
    "# шанс выпадения 17\n",
    "c = np.math.factorial(15)/(np.math.factorial(7)*np.math.factorial(8))/(2**15)\n",
    "c"
   ]
  },
  {
   "cell_type": "code",
   "execution_count": 62,
   "metadata": {},
   "outputs": [
    {
     "data": {
      "text/plain": [
       "0.091644287109375"
      ]
     },
     "execution_count": 62,
     "metadata": {},
     "output_type": "execute_result"
    }
   ],
   "source": [
    "# шанс выпадения 5\n",
    "d = (np.math.factorial(15)/(np.math.factorial(5)*np.math.factorial(10)))/(2**15)\n",
    "d"
   ]
  },
  {
   "cell_type": "code",
   "execution_count": 63,
   "metadata": {},
   "outputs": [
    {
     "data": {
      "text/plain": [
       "0.013885498046875"
      ]
     },
     "execution_count": 63,
     "metadata": {},
     "output_type": "execute_result"
    }
   ],
   "source": [
    "# шанс выпадения 3\n",
    "e = (np.math.factorial(15)/(np.math.factorial(3)*np.math.factorial(12)))/(2**15)\n",
    "e"
   ]
  },
  {
   "cell_type": "code",
   "execution_count": 64,
   "metadata": {},
   "outputs": [
    {
     "data": {
      "text/plain": [
       "0.003204345703125"
      ]
     },
     "execution_count": 64,
     "metadata": {},
     "output_type": "execute_result"
    }
   ],
   "source": [
    "# шанс выпадения 2\n",
    "f = (np.math.factorial(15)/(np.math.factorial(2)*np.math.factorial(13)))/(2**15)\n",
    "f"
   ]
  },
  {
   "cell_type": "code",
   "execution_count": 87,
   "metadata": {},
   "outputs": [
    {
     "name": "stdout",
     "output_type": "stream",
     "text": [
      "34.998 %\n"
     ]
    }
   ],
   "source": [
    "res = a + b + c + d + e + f\n",
    "print(round(res*100, 3), '%')"
   ]
  },
  {
   "cell_type": "markdown",
   "metadata": {},
   "source": [
    "#### Задание 2:\n",
    "#### Создайте свою дискретную случайную величину с не менее, чем 10 значениями. \n",
    "#### Просемплируйте 1000 случайных значений, постройте гистограмму плотности распределения по выборке, \n",
    "#### посчитайте среднее, дисперсию и медиану."
   ]
  },
  {
   "cell_type": "code",
   "execution_count": 4,
   "metadata": {},
   "outputs": [
    {
     "data": {
      "text/plain": [
       "array([20, 14, 12, 19, 17, 10, 16, 11,  3,  3, 13, 10, 18, 17, 19, 16, 18,\n",
       "       16, 16,  6, 15,  2, 10, 13, 14, 17, 12,  7,  5, 19,  1, 20, 19, 11,\n",
       "        2,  8,  3,  8,  9,  6,  3,  1,  7, 15, 12, 11, 10, 17,  5,  4, 14,\n",
       "       14, 11, 12,  5,  5, 19,  9,  9, 15,  1, 15, 12, 16, 15, 13,  4, 20,\n",
       "        6, 16, 19, 18, 11,  2, 18, 14,  7,  1,  7, 11,  5, 17,  1, 12,  8,\n",
       "        2, 11, 19, 13, 15,  3,  5, 18,  1, 10, 10, 14, 19, 15,  3, 13, 13,\n",
       "       12,  4, 16,  3, 10, 15, 13,  8,  3, 18, 14, 16, 15, 11,  7,  4, 10,\n",
       "       11, 13,  5,  7,  8,  9,  8,  1,  1, 18, 12, 17, 17,  3, 20, 13,  1,\n",
       "       19, 15, 12,  1, 13,  6, 19, 13,  8, 10,  5, 12, 13, 11, 20, 20, 19,\n",
       "       20,  3, 14, 10, 12, 13, 18, 17, 18,  6, 13, 14, 16,  7,  6,  7, 18,\n",
       "       14, 13, 13,  9, 11, 19, 13,  3, 19, 13,  4, 12, 13,  2,  5,  3,  1,\n",
       "       10, 20,  4,  7,  5, 15, 20, 14, 15, 14, 13, 18,  9, 13,  6, 15,  7,\n",
       "       18,  6,  2,  7,  2, 17, 16,  8, 18,  6,  5,  9, 10,  9, 14, 10, 14,\n",
       "       14, 10, 14,  1, 11, 10, 19, 11,  7,  9,  7, 16,  9, 19,  4,  7, 10,\n",
       "       13, 19,  3, 14,  5, 10,  3, 11,  7,  7, 18,  7,  7,  6, 10, 12, 11,\n",
       "        1,  8,  2, 10,  9,  6, 10,  1,  8,  8,  8,  8,  9, 20, 17,  7, 11,\n",
       "        9,  7,  8,  5, 13,  7,  2, 16,  5,  7,  2, 15,  5, 15, 19, 11,  1,\n",
       "        9,  8, 10,  8, 15, 14, 15,  7, 16,  2, 10, 13,  5, 20, 12,  6, 20,\n",
       "        7, 20,  5, 11, 11,  9, 10, 17,  7, 15, 15, 17,  7, 20, 20, 20,  8,\n",
       "       20, 20, 19, 17, 20, 17,  1,  1,  7,  9,  2, 13, 16, 11,  7,  8,  1,\n",
       "       14, 16, 11, 12,  1, 19, 20, 20, 20,  3,  3,  8,  5,  4, 16, 13, 16,\n",
       "       11, 11, 19, 13, 19, 14,  5, 16, 11, 19,  7,  2,  2,  8, 19,  9, 19,\n",
       "       19,  5,  4,  3, 11, 19, 12,  7,  9,  2, 14, 12, 13, 12, 13,  1, 16,\n",
       "        3,  7, 12,  1, 10,  6, 10,  7, 18,  4, 17,  6, 10,  1,  6,  3,  2,\n",
       "       14,  3, 18,  7, 17,  6,  1, 17,  3,  5,  9,  9,  7,  7,  4,  4, 17,\n",
       "       20, 19,  7,  1, 14, 11, 12, 13,  8,  8,  1, 12, 12, 10, 17, 19,  2,\n",
       "       19, 10, 14,  7,  6, 17, 13, 15, 11, 16, 14, 11,  4, 11, 12,  3, 19,\n",
       "       16, 11,  3, 13, 13,  3, 16,  8,  6, 19,  1, 20, 18, 16,  1,  6,  5,\n",
       "        5, 14,  3, 18,  5, 19, 17, 10,  8,  4,  6, 12, 11, 19, 19, 19, 11,\n",
       "        1, 18, 12,  3, 18, 11,  4,  9, 10,  8,  1, 13,  8, 17, 15,  4, 20,\n",
       "        4, 11,  8, 17, 14,  7,  2,  4, 20,  1, 18, 17, 12, 12, 11, 18,  4,\n",
       "       11, 11,  3, 10, 10, 13,  5,  4, 19,  7, 17,  4, 13, 14,  3, 17,  7,\n",
       "       19, 14, 13,  2, 13, 15,  7, 16, 16, 19, 18, 16, 20,  5, 20,  7, 10,\n",
       "        1,  8,  8,  1,  1, 11, 15, 13,  9,  1,  3, 19,  8,  8,  4, 11, 11,\n",
       "       15, 18, 20,  3, 12, 10, 17, 15, 12,  5, 15, 18, 11,  2, 20,  4, 17,\n",
       "       19,  1,  6, 11,  7, 12, 19,  7, 14, 14, 16,  2,  9, 11, 11, 17,  7,\n",
       "        4, 14,  2, 15,  2, 10, 17,  2,  3, 10, 11,  2,  3, 20,  9, 19,  1,\n",
       "        1, 16,  3,  9, 15, 14, 10,  9, 12,  2,  3,  2, 15, 13,  9, 13, 13,\n",
       "        2, 18, 11,  8,  8,  2, 19, 11,  6,  3, 14, 14,  3, 13,  3,  1,  3,\n",
       "       20,  9,  4,  4, 16, 11, 12, 13,  7,  6, 13,  5,  8,  4,  8,  4, 18,\n",
       "       19,  3, 16,  9,  3, 15, 13, 13,  5,  7,  4,  5, 10,  9, 10, 12,  2,\n",
       "       12, 19, 10,  1,  6,  8,  1,  5, 20, 12,  2,  8, 16,  3,  2, 15, 13,\n",
       "       19,  9, 17, 17, 17, 14, 20,  7, 17, 18, 15, 10, 11,  7, 18,  3, 14,\n",
       "       12,  6, 12,  9,  7,  9,  8, 19,  9,  5, 14,  8,  8,  1, 14, 11,  2,\n",
       "       18, 14, 11, 10,  9, 14,  9,  4,  9,  1,  1, 16, 10, 20, 12, 14,  7,\n",
       "       15, 17, 19,  2,  4, 16, 15,  5, 18,  8,  2, 12, 18, 18, 16, 15, 12,\n",
       "       10,  9, 19,  9, 12,  9,  7,  3, 20, 17, 10, 18,  1, 14,  7,  4, 13,\n",
       "        7, 16, 14,  7, 18, 12, 19,  2, 13,  6, 10,  8, 19, 12, 15, 14, 20,\n",
       "       11,  9, 18, 14, 20, 17, 16,  5,  1,  7,  2, 14, 20, 14, 15, 13, 12,\n",
       "       13,  3,  1,  5,  8,  2,  1, 11, 13,  2, 10, 12,  5, 16,  1,  3, 13,\n",
       "       13, 17, 12,  2,  3,  1, 20, 12,  1,  5,  2, 13, 12, 13,  5,  5,  1,\n",
       "       20, 16, 19, 12, 14,  7,  7,  2, 17, 20, 17, 19,  3,  2, 16, 20, 11,\n",
       "        6, 18,  9, 17,  4,  2,  9, 15,  7,  5, 10, 15,  3,  6, 10, 11, 11,\n",
       "        3, 12, 19, 20, 15, 15,  1,  9,  3, 11, 19, 18, 17, 13,  4,  6,  8,\n",
       "       15, 17,  4,  9, 20, 12,  9,  8, 16, 10,  9, 17,  2, 14,  9, 13,  3,\n",
       "       13,  8, 16, 13, 17, 10, 12,  8,  3, 12, 17,  7, 17,  9, 16, 14, 17,\n",
       "       20, 12,  6,  2, 14,  5,  1, 15,  8,  8,  3, 16, 10, 10, 15, 17, 14,\n",
       "       18, 18, 16,  8, 14, 17,  2,  6, 16, 17,  5,  7, 20, 15,  5, 19,  5,\n",
       "       10,  1, 14,  1, 14, 16,  8, 18,  6, 12, 19, 13,  4,  5])"
      ]
     },
     "execution_count": 4,
     "metadata": {},
     "output_type": "execute_result"
    }
   ],
   "source": [
    "x = np.random.randint(1, 21, size=1000)\n",
    "x"
   ]
  },
  {
   "cell_type": "code",
   "execution_count": 8,
   "metadata": {},
   "outputs": [
    {
     "data": {
      "text/plain": [
       "Text(0, 0.5, 'Количества раз')"
      ]
     },
     "execution_count": 8,
     "metadata": {},
     "output_type": "execute_result"
    },
    {
     "data": {
      "image/png": "[encoded data removed]",
      "text/plain": [
       "<Figure size 432x288 with 1 Axes>"
      ]
     },
     "metadata": {
      "needs_background": "light"
     },
     "output_type": "display_data"
    }
   ],
   "source": [
    "import pylab\n",
    "\n",
    "pylab.hist(x, bins=10, edgecolor='black')\n",
    "\n",
    "pylab.xlabel('Значение')\n",
    "pylab.ylabel('Количества раз')"
   ]
  },
  {
   "cell_type": "code",
   "execution_count": 6,
   "metadata": {},
   "outputs": [
    {
     "data": {
      "text/plain": [
       "(11.0, 10.601, 32.385799)"
      ]
     },
     "execution_count": 6,
     "metadata": {},
     "output_type": "execute_result"
    }
   ],
   "source": [
    "np.median(x), np.mean(x), np.var(x)"
   ]
  },
  {
   "cell_type": "markdown",
   "metadata": {},
   "source": [
    "#### Задание 3:\n",
    "#### Пусть брошены 3 уравновешенные монеты.\n",
    "#### Рассмотрим 3 события:\n",
    "#### A1 - монеты 1 и 2 упали одной и той же стороной;\n",
    "#### A2 - монеты 2 и 3 упали одной и той же стороной;\n",
    "#### A3 - монеты 1 и 3 упали одной и той же стороной.\n",
    "#### Покажите, почему эти 3 события (A1, A2, A3) являются попарно независимыми, но не являются независимыми в совокупности."
   ]
  },
  {
   "cell_type": "code",
   "execution_count": null,
   "metadata": {},
   "outputs": [],
   "source": []
  },
  {
   "cell_type": "markdown",
   "metadata": {},
   "source": [
    "#### Задание 4 (формула полной вероятности):\n",
    "#### В магазин привезли устройства с 3-х разных предприятий.\n",
    "#### Соотношение устройств следующее: 20% - продукция первого предприятия, 30% - продукция второго предприятия, 50% - продукция третьего предприятия; далее, 10% продукции первого предприятия высшего сорта, на втором предприятии - 5% и на третьем - 20% продукции высшего сорта.\n",
    "#### Найти вероятность того, что случайно купленная новая продукция окажется высшего сорта."
   ]
  },
  {
   "cell_type": "code",
   "execution_count": 95,
   "metadata": {},
   "outputs": [
    {
     "name": "stdout",
     "output_type": "stream",
     "text": [
      "вероятность купить продукцию высшего сорта:  13.5 %\n"
     ]
    }
   ],
   "source": [
    "prod1 = 20\n",
    "prod2 = 30\n",
    "prod3 = 50\n",
    "hq1 = 0.1\n",
    "hq2 = 0.05\n",
    "hq3 = 0.2\n",
    "result = prod1*hq1 + prod2*hq2 + prod3*hq3\n",
    "print('вероятность купить продукцию высшего сорта: ', result, '%')"
   ]
  },
  {
   "cell_type": "code",
   "execution_count": null,
   "metadata": {},
   "outputs": [],
   "source": []
  }
 ],
 "metadata": {
  "kernelspec": {
   "display_name": "Python 3",
   "language": "python",
   "name": "python3"
  },
  "language_info": {
   "codemirror_mode": {
    "name": "ipython",
    "version": 3
   },
   "file_extension": ".py",
   "mimetype": "text/x-python",
   "name": "python",
   "nbconvert_exporter": "python",
   "pygments_lexer": "ipython3",
   "version": "3.8.3"
  }
 },
 "nbformat": 4,
 "nbformat_minor": 4
}
