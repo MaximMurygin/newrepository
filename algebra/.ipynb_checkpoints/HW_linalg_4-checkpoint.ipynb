{
 "cells": [
  {
   "cell_type": "code",
   "execution_count": 2,
   "metadata": {},
   "outputs": [],
   "source": [
    "import numpy as np\n",
    "from sympy import diff, symbols, cos, sin"
   ]
  },
  {
   "cell_type": "markdown",
   "metadata": {},
   "source": [
    "### Уровень 0:\n",
    "#### Посчитайте значение первой и второй производной функции:\n",
    "#### $f(x) = x^5 + 4sin(2x) + cos(3x+3)$\n",
    "#### В точке x = 1."
   ]
  },
  {
   "cell_type": "markdown",
   "metadata": {},
   "source": [
    "##### $f'(x) = 5x^4 + 4(cos(2x)) * 2 - sin(3x -3) * 3 = 5x^4 - 3sin(3x - 3) + 8cos(2x)$"
   ]
  },
  {
   "cell_type": "code",
   "execution_count": 3,
   "metadata": {},
   "outputs": [
    {
     "data": {
      "text/latex": [
       "$\\displaystyle 5 x^{4} - 3 \\sin{\\left(3 x + 3 \\right)} + 8 \\cos{\\left(2 x \\right)}$"
      ],
      "text/plain": [
       "5*x**4 - 3*sin(3*x + 3) + 8*cos(2*x)"
      ]
     },
     "execution_count": 3,
     "metadata": {},
     "output_type": "execute_result"
    }
   ],
   "source": [
    "x, y = symbols('x y')\n",
    "diff(x**5 + 4*(sin(2*x)) + cos(3*x + 3))"
   ]
  },
  {
   "cell_type": "code",
   "execution_count": 4,
   "metadata": {},
   "outputs": [
    {
     "name": "stdout",
     "output_type": "stream",
     "text": [
      "15.825770571728196\n"
     ]
    }
   ],
   "source": [
    "def f(x):\n",
    "    return (5*(x**4) - 3*(np.sin(3*x + 3) + 8*(np.cos(2*x))))\n",
    "print(f(1))"
   ]
  },
  {
   "cell_type": "markdown",
   "metadata": {},
   "source": [
    "##### $f''(x) = 20x^3 - 3cos(3x + 3) * 3 + (-8sin(2x) * 2) = 20x^3 - 16sin(2x) - 9cos(3x + 3)$"
   ]
  },
  {
   "cell_type": "code",
   "execution_count": 5,
   "metadata": {},
   "outputs": [
    {
     "data": {
      "text/latex": [
       "$\\displaystyle 20 x^{3} - 16 \\sin{\\left(2 x \\right)} - 9 \\cos{\\left(3 x + 3 \\right)}$"
      ],
      "text/plain": [
       "20*x**3 - 16*sin(2*x) - 9*cos(3*x + 3)"
      ]
     },
     "execution_count": 5,
     "metadata": {},
     "output_type": "execute_result"
    }
   ],
   "source": [
    "x, y = symbols('x y')\n",
    "diff(5*(x**4) - 3*(sin(3*x + 3)) + 8*(cos(2*x)))"
   ]
  },
  {
   "cell_type": "code",
   "execution_count": 185,
   "metadata": {},
   "outputs": [
    {
     "name": "stdout",
     "output_type": "stream",
     "text": [
      "143.7157624484418\n"
     ]
    }
   ],
   "source": [
    "def f2(x):\n",
    "    return (20*(x**3) - 16*(np.sin(2*x) - 9*(np.cos(3*x +3))))\n",
    "print(f2(1))"
   ]
  },
  {
   "cell_type": "markdown",
   "metadata": {},
   "source": [
    "### Постройте график первой и второй производной функции:\n",
    "#### $f(x) = sin^5(2x+1)$\n",
    "#### На отрезке [-5; 5]."
   ]
  },
  {
   "cell_type": "code",
   "execution_count": 186,
   "metadata": {},
   "outputs": [
    {
     "data": {
      "text/latex": [
       "$\\displaystyle 10 \\sin^{4}{\\left(2 x + 1 \\right)} \\cos{\\left(2 x + 1 \\right)}$"
      ],
      "text/plain": [
       "10*sin(2*x + 1)**4*cos(2*x + 1)"
      ]
     },
     "execution_count": 186,
     "metadata": {},
     "output_type": "execute_result"
    }
   ],
   "source": [
    "x, y = symbols('x y')\n",
    "diff(sin(2*x+1)**5)"
   ]
  },
  {
   "cell_type": "code",
   "execution_count": 187,
   "metadata": {},
   "outputs": [
    {
     "data": {
      "text/latex": [
       "$\\displaystyle - 20 \\sin^{5}{\\left(2 x + 1 \\right)} + 80 \\sin^{3}{\\left(2 x + 1 \\right)} \\cos^{2}{\\left(2 x + 1 \\right)}$"
      ],
      "text/plain": [
       "-20*sin(2*x + 1)**5 + 80*sin(2*x + 1)**3*cos(2*x + 1)**2"
      ]
     },
     "execution_count": 187,
     "metadata": {},
     "output_type": "execute_result"
    }
   ],
   "source": [
    "x, y = symbols('x y')\n",
    "diff((10*sin(2*x + 1)**4) * (cos(2*x + 1)))"
   ]
  },
  {
   "cell_type": "code",
   "execution_count": 189,
   "metadata": {},
   "outputs": [
    {
     "data": {
      "text/plain": [
       "[<matplotlib.lines.Line2D at 0x11dd98940>,\n",
       " <matplotlib.lines.Line2D at 0x11dd98970>]"
      ]
     },
     "execution_count": 189,
     "metadata": {},
     "output_type": "execute_result"
    },
    {
     "data": {
      "image/png": "[encoded data removed]",
      "text/plain": [
       "<Figure size 432x288 with 1 Axes>"
      ]
     },
     "metadata": {
      "needs_background": "light"
     },
     "output_type": "display_data"
    }
   ],
   "source": [
    "x = np.linspace(5, -5, 5)\n",
    "y1 = [((10*np.sin(2*x +1)**4) * (np.cos(2*x + 1))) for x in x]\n",
    "y2 = [((-20*np.sin(2*x +1)**5) + (80*np.sin(2*x +1)**3)*(np.cos(2*x + 1)**2)) for x in x]\n",
    "plt.grid()              \n",
    "plt.plot(x, y1, x, y2)"
   ]
  },
  {
   "cell_type": "code",
   "execution_count": null,
   "metadata": {},
   "outputs": [],
   "source": []
  },
  {
   "cell_type": "code",
   "execution_count": null,
   "metadata": {},
   "outputs": [],
   "source": []
  },
  {
   "cell_type": "code",
   "execution_count": null,
   "metadata": {},
   "outputs": [],
   "source": []
  }
 ],
 "metadata": {
  "kernelspec": {
   "display_name": "Python 3",
   "language": "python",
   "name": "python3"
  },
  "language_info": {
   "codemirror_mode": {
    "name": "ipython",
    "version": 3
   },
   "file_extension": ".py",
   "mimetype": "text/x-python",
   "name": "python",
   "nbconvert_exporter": "python",
   "pygments_lexer": "ipython3",
   "version": "3.8.3"
  }
 },
 "nbformat": 4,
 "nbformat_minor": 4
}
