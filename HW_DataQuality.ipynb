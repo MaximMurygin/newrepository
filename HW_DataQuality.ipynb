{
 "cells": [
  {
   "cell_type": "code",
   "execution_count": 9,
   "metadata": {},
   "outputs": [],
   "source": [
    "import numpy as np\n",
    "import pandas as pd\n",
    "import seaborn as sns\n",
    "from sklearn.model_selection import train_test_split\n",
    "from sklearn.linear_model import LinearRegression\n",
    "from sklearn.metrics import mean_absolute_error"
   ]
  },
  {
   "cell_type": "markdown",
   "metadata": {},
   "source": [
    "### Создаем датасет"
   ]
  },
  {
   "cell_type": "code",
   "execution_count": 34,
   "metadata": {},
   "outputs": [
    {
     "data": {
      "text/html": [
       "<div>\n",
       "<style scoped>\n",
       "    .dataframe tbody tr th:only-of-type {\n",
       "        vertical-align: middle;\n",
       "    }\n",
       "\n",
       "    .dataframe tbody tr th {\n",
       "        vertical-align: top;\n",
       "    }\n",
       "\n",
       "    .dataframe thead th {\n",
       "        text-align: right;\n",
       "    }\n",
       "</style>\n",
       "<table border=\"1\" class=\"dataframe\">\n",
       "  <thead>\n",
       "    <tr style=\"text-align: right;\">\n",
       "      <th></th>\n",
       "      <th>age</th>\n",
       "      <th>wins</th>\n",
       "      <th>loses</th>\n",
       "      <th>ties</th>\n",
       "      <th>lvl</th>\n",
       "    </tr>\n",
       "  </thead>\n",
       "  <tbody>\n",
       "    <tr>\n",
       "      <th>0</th>\n",
       "      <td>20</td>\n",
       "      <td>92</td>\n",
       "      <td>62</td>\n",
       "      <td>92</td>\n",
       "      <td>43</td>\n",
       "    </tr>\n",
       "    <tr>\n",
       "      <th>1</th>\n",
       "      <td>19</td>\n",
       "      <td>92</td>\n",
       "      <td>88</td>\n",
       "      <td>71</td>\n",
       "      <td>31</td>\n",
       "    </tr>\n",
       "    <tr>\n",
       "      <th>2</th>\n",
       "      <td>26</td>\n",
       "      <td>55</td>\n",
       "      <td>75</td>\n",
       "      <td>72</td>\n",
       "      <td>17</td>\n",
       "    </tr>\n",
       "    <tr>\n",
       "      <th>3</th>\n",
       "      <td>30</td>\n",
       "      <td>91</td>\n",
       "      <td>57</td>\n",
       "      <td>64</td>\n",
       "      <td>40</td>\n",
       "    </tr>\n",
       "    <tr>\n",
       "      <th>4</th>\n",
       "      <td>32</td>\n",
       "      <td>91</td>\n",
       "      <td>50</td>\n",
       "      <td>75</td>\n",
       "      <td>44</td>\n",
       "    </tr>\n",
       "  </tbody>\n",
       "</table>\n",
       "</div>"
      ],
      "text/plain": [
       "   age  wins  loses  ties  lvl\n",
       "0   20    92     62    92   43\n",
       "1   19    92     88    71   31\n",
       "2   26    55     75    72   17\n",
       "3   30    91     57    64   40\n",
       "4   32    91     50    75   44"
      ]
     },
     "execution_count": 34,
     "metadata": {},
     "output_type": "execute_result"
    }
   ],
   "source": [
    "n_samples = 1000\n",
    "wins = np.random.choice(50, n_samples) + 50\n",
    "loses = np.random.choice(50, n_samples) + 50\n",
    "ties = np.random.choice(50, n_samples) + 50\n",
    "# lvl - зависит от переменных 'wins', 'loses', 'ties'\n",
    "lvl = ((10*wins - 6.6*loses + 3.3*ties)*0.05 + 3).astype('int64')\n",
    "# age - независимая переменная\n",
    "age = np.random.choice(15, n_samples) + 18\n",
    "data = pd.DataFrame({'age': age, 'wins': wins, 'loses': loses, 'ties': ties, 'lvl': lvl})\n",
    "data.head()"
   ]
  },
  {
   "cell_type": "code",
   "execution_count": 50,
   "metadata": {},
   "outputs": [
    {
     "name": "stdout",
     "output_type": "stream",
     "text": [
      "Weights: [ 0.50047796 -0.32971948  0.1655166 ]\n",
      "Bias: 2.403080461457723\n",
      "Error: 0.24839396478177955\n"
     ]
    }
   ],
   "source": [
    "X = data[['wins','loses','ties']]\n",
    "y = data['lvl']\n",
    "reg = LinearRegression().fit(X, y)\n",
    "print('Weights: {}'.format(reg.coef_))\n",
    "print('Bias: {}'.format(reg.intercept_))\n",
    "\n",
    "pred_values = reg.predict(data[['wins','loses','ties']])\n",
    "print('Error: {}'.format(mean_absolute_error(pred_values, y)))\n",
    "# ошибка минимальна"
   ]
  },
  {
   "cell_type": "code",
   "execution_count": 51,
   "metadata": {},
   "outputs": [
    {
     "name": "stdout",
     "output_type": "stream",
     "text": [
      "Weights: [-0.04873596]\n",
      "Bias: 28.707458809007043\n",
      "Error: 7.459206969544621\n"
     ]
    }
   ],
   "source": [
    "X = data[['age']]\n",
    "y = data['lvl']\n",
    "reg = LinearRegression().fit(X, y)\n",
    "print('Weights: {}'.format(reg.coef_))\n",
    "print('Bias: {}'.format(reg.intercept_))\n",
    "\n",
    "pred_values = reg.predict(data[['age']])\n",
    "print('Error: {}'.format(mean_absolute_error(pred_values, y)))\n",
    "# тут модель работает значительно хуже."
   ]
  },
  {
   "cell_type": "markdown",
   "metadata": {},
   "source": [
    "### Создаем переменную 'win_rate' на основании 'wins', 'loses', 'ties'."
   ]
  },
  {
   "cell_type": "code",
   "execution_count": 52,
   "metadata": {},
   "outputs": [
    {
     "data": {
      "text/html": [
       "<div>\n",
       "<style scoped>\n",
       "    .dataframe tbody tr th:only-of-type {\n",
       "        vertical-align: middle;\n",
       "    }\n",
       "\n",
       "    .dataframe tbody tr th {\n",
       "        vertical-align: top;\n",
       "    }\n",
       "\n",
       "    .dataframe thead th {\n",
       "        text-align: right;\n",
       "    }\n",
       "</style>\n",
       "<table border=\"1\" class=\"dataframe\">\n",
       "  <thead>\n",
       "    <tr style=\"text-align: right;\">\n",
       "      <th></th>\n",
       "      <th>age</th>\n",
       "      <th>wins</th>\n",
       "      <th>loses</th>\n",
       "      <th>ties</th>\n",
       "      <th>lvl</th>\n",
       "      <th>win_rate</th>\n",
       "    </tr>\n",
       "  </thead>\n",
       "  <tbody>\n",
       "    <tr>\n",
       "      <th>0</th>\n",
       "      <td>20</td>\n",
       "      <td>92</td>\n",
       "      <td>62</td>\n",
       "      <td>92</td>\n",
       "      <td>43</td>\n",
       "      <td>0.373984</td>\n",
       "    </tr>\n",
       "    <tr>\n",
       "      <th>1</th>\n",
       "      <td>19</td>\n",
       "      <td>92</td>\n",
       "      <td>88</td>\n",
       "      <td>71</td>\n",
       "      <td>31</td>\n",
       "      <td>0.366534</td>\n",
       "    </tr>\n",
       "    <tr>\n",
       "      <th>2</th>\n",
       "      <td>26</td>\n",
       "      <td>55</td>\n",
       "      <td>75</td>\n",
       "      <td>72</td>\n",
       "      <td>17</td>\n",
       "      <td>0.272277</td>\n",
       "    </tr>\n",
       "    <tr>\n",
       "      <th>3</th>\n",
       "      <td>30</td>\n",
       "      <td>91</td>\n",
       "      <td>57</td>\n",
       "      <td>64</td>\n",
       "      <td>40</td>\n",
       "      <td>0.429245</td>\n",
       "    </tr>\n",
       "    <tr>\n",
       "      <th>4</th>\n",
       "      <td>32</td>\n",
       "      <td>91</td>\n",
       "      <td>50</td>\n",
       "      <td>75</td>\n",
       "      <td>44</td>\n",
       "      <td>0.421296</td>\n",
       "    </tr>\n",
       "  </tbody>\n",
       "</table>\n",
       "</div>"
      ],
      "text/plain": [
       "   age  wins  loses  ties  lvl  win_rate\n",
       "0   20    92     62    92   43  0.373984\n",
       "1   19    92     88    71   31  0.366534\n",
       "2   26    55     75    72   17  0.272277\n",
       "3   30    91     57    64   40  0.429245\n",
       "4   32    91     50    75   44  0.421296"
      ]
     },
     "execution_count": 52,
     "metadata": {},
     "output_type": "execute_result"
    }
   ],
   "source": [
    "data['win_rate'] = data['wins']/(data['wins'] + data['loses'] + data['ties'])\n",
    "data.head()"
   ]
  },
  {
   "cell_type": "markdown",
   "metadata": {},
   "source": [
    "#### Модель без новой переменной:"
   ]
  },
  {
   "cell_type": "code",
   "execution_count": 113,
   "metadata": {},
   "outputs": [
    {
     "name": "stdout",
     "output_type": "stream",
     "text": [
      "Weights: [ 0.50911109 -0.33052117]\n",
      "Bias: 14.190168737944443\n",
      "Error: 2.0552202692984496\n"
     ]
    }
   ],
   "source": [
    "X = data[['wins','loses']]\n",
    "y = data['lvl']\n",
    "reg = LinearRegression().fit(X, y)\n",
    "print('Weights: {}'.format(reg.coef_))\n",
    "print('Bias: {}'.format(reg.intercept_))\n",
    "\n",
    "pred_values = reg.predict(data[['wins','loses']])\n",
    "print('Error: {}'.format(mean_absolute_error(pred_values, y)))"
   ]
  },
  {
   "cell_type": "markdown",
   "metadata": {},
   "source": [
    "#### Модель с новой переменной, зависящей от изначальных данных:"
   ]
  },
  {
   "cell_type": "code",
   "execution_count": 112,
   "metadata": {},
   "outputs": [
    {
     "name": "stdout",
     "output_type": "stream",
     "text": [
      "Weights: [   0.81924929   -0.48830487 -105.62685839]\n",
      "Bias: 37.996259350833796\n",
      "Error: 0.4428335824389661\n"
     ]
    }
   ],
   "source": [
    "X = data[['wins','loses','win_rate']]\n",
    "y = data['lvl']\n",
    "reg = LinearRegression().fit(X, y)\n",
    "print('Weights: {}'.format(reg.coef_))\n",
    "print('Bias: {}'.format(reg.intercept_))\n",
    "\n",
    "pred_values = reg.predict(data[['wins','loses','win_rate']])\n",
    "print('Error: {}'.format(mean_absolute_error(pred_values, y)))\n",
    "# Новый признак улучшил качество."
   ]
  },
  {
   "cell_type": "code",
   "execution_count": 150,
   "metadata": {},
   "outputs": [
    {
     "data": {
      "text/html": [
       "<div>\n",
       "<style scoped>\n",
       "    .dataframe tbody tr th:only-of-type {\n",
       "        vertical-align: middle;\n",
       "    }\n",
       "\n",
       "    .dataframe tbody tr th {\n",
       "        vertical-align: top;\n",
       "    }\n",
       "\n",
       "    .dataframe thead th {\n",
       "        text-align: right;\n",
       "    }\n",
       "</style>\n",
       "<table border=\"1\" class=\"dataframe\">\n",
       "  <thead>\n",
       "    <tr style=\"text-align: right;\">\n",
       "      <th></th>\n",
       "      <th>age</th>\n",
       "      <th>wins</th>\n",
       "      <th>loses</th>\n",
       "      <th>ties</th>\n",
       "      <th>lvl</th>\n",
       "      <th>win_rate</th>\n",
       "      <th>total</th>\n",
       "    </tr>\n",
       "  </thead>\n",
       "  <tbody>\n",
       "    <tr>\n",
       "      <th>0</th>\n",
       "      <td>20</td>\n",
       "      <td>92</td>\n",
       "      <td>62</td>\n",
       "      <td>92</td>\n",
       "      <td>43</td>\n",
       "      <td>0.373984</td>\n",
       "      <td>246</td>\n",
       "    </tr>\n",
       "    <tr>\n",
       "      <th>1</th>\n",
       "      <td>19</td>\n",
       "      <td>92</td>\n",
       "      <td>88</td>\n",
       "      <td>71</td>\n",
       "      <td>31</td>\n",
       "      <td>0.366534</td>\n",
       "      <td>251</td>\n",
       "    </tr>\n",
       "    <tr>\n",
       "      <th>2</th>\n",
       "      <td>26</td>\n",
       "      <td>55</td>\n",
       "      <td>75</td>\n",
       "      <td>72</td>\n",
       "      <td>17</td>\n",
       "      <td>0.272277</td>\n",
       "      <td>202</td>\n",
       "    </tr>\n",
       "    <tr>\n",
       "      <th>3</th>\n",
       "      <td>30</td>\n",
       "      <td>91</td>\n",
       "      <td>57</td>\n",
       "      <td>64</td>\n",
       "      <td>40</td>\n",
       "      <td>0.429245</td>\n",
       "      <td>212</td>\n",
       "    </tr>\n",
       "    <tr>\n",
       "      <th>4</th>\n",
       "      <td>32</td>\n",
       "      <td>91</td>\n",
       "      <td>50</td>\n",
       "      <td>75</td>\n",
       "      <td>44</td>\n",
       "      <td>0.421296</td>\n",
       "      <td>216</td>\n",
       "    </tr>\n",
       "  </tbody>\n",
       "</table>\n",
       "</div>"
      ],
      "text/plain": [
       "   age  wins  loses  ties  lvl  win_rate  total\n",
       "0   20    92     62    92   43  0.373984    246\n",
       "1   19    92     88    71   31  0.366534    251\n",
       "2   26    55     75    72   17  0.272277    202\n",
       "3   30    91     57    64   40  0.429245    212\n",
       "4   32    91     50    75   44  0.421296    216"
      ]
     },
     "execution_count": 150,
     "metadata": {},
     "output_type": "execute_result"
    }
   ],
   "source": [
    "data['total'] = wins + loses + ties\n",
    "data.head()"
   ]
  },
  {
   "cell_type": "code",
   "execution_count": 149,
   "metadata": {},
   "outputs": [
    {
     "name": "stdout",
     "output_type": "stream",
     "text": [
      "Weights: [-1. -1.  1.]\n",
      "Bias: -7.105427357601002e-14\n",
      "Error: 1.6324008811352542e-13\n"
     ]
    }
   ],
   "source": [
    "X = data[['wins','ties','total']]\n",
    "y = data['loses']\n",
    "reg = LinearRegression().fit(X, y)\n",
    "print('Weights: {}'.format(reg.coef_))\n",
    "print('Bias: {}'.format(reg.intercept_))\n",
    "\n",
    "pred_values = reg.predict(data[['wins','ties','total']])\n",
    "print('Error: {}'.format(mean_absolute_error(pred_values, y)))"
   ]
  },
  {
   "cell_type": "markdown",
   "metadata": {},
   "source": [
    "#### Можно построить корреляционную матрицу, где будет видно, как связаны те или иные признаки."
   ]
  },
  {
   "cell_type": "code",
   "execution_count": 147,
   "metadata": {},
   "outputs": [
    {
     "data": {
      "image/png": "[encoded data removed]",
      "text/plain": [
       "<Figure size 1152x432 with 2 Axes>"
      ]
     },
     "metadata": {
      "needs_background": "light"
     },
     "output_type": "display_data"
    }
   ],
   "source": [
    "import seaborn as sns\n",
    "import matplotlib.pyplot as plt\n",
    "plt.figure(figsize=(16, 6))\n",
    "heatmap = sns.heatmap(data.corr(), vmin=-1, vmax=1, annot=True)\n",
    "heatmap.set_title('Correlation Heatmap', fontdict={'fontsize':16}, pad=16);"
   ]
  },
  {
   "cell_type": "code",
   "execution_count": null,
   "metadata": {},
   "outputs": [],
   "source": []
  }
 ],
 "metadata": {
  "kernelspec": {
   "display_name": "Python 3",
   "language": "python",
   "name": "python3"
  },
  "language_info": {
   "codemirror_mode": {
    "name": "ipython",
    "version": 3
   },
   "file_extension": ".py",
   "mimetype": "text/x-python",
   "name": "python",
   "nbconvert_exporter": "python",
   "pygments_lexer": "ipython3",
   "version": "3.8.3"
  }
 },
 "nbformat": 4,
 "nbformat_minor": 4
}
