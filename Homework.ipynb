{
 "cells": [
  {
   "cell_type": "code",
   "execution_count": 1,
   "metadata": {},
   "outputs": [],
   "source": [
    "import pandas as pd"
   ]
  },
  {
   "cell_type": "code",
   "execution_count": 7,
   "metadata": {},
   "outputs": [],
   "source": [
    "data = pd.read_csv('ratings.csv')"
   ]
  },
  {
   "cell_type": "code",
   "execution_count": 8,
   "metadata": {},
   "outputs": [],
   "source": [
    "data = data[(data['rating'] == 5.0)]"
   ]
  },
  {
   "cell_type": "code",
   "execution_count": 9,
   "metadata": {},
   "outputs": [
    {
     "name": "stdout",
     "output_type": "stream",
     "text": [
      "318\n"
     ]
    }
   ],
   "source": [
    "print(data['movieId'].value_counts().index[0])"
   ]
  },
  {
   "cell_type": "code",
   "execution_count": null,
   "metadata": {},
   "outputs": [],
   "source": [
    "Задание 2\n",
    "По данным файла power.csv посчитайте суммарное потребление стран Прибалтики \n",
    "(Латвия, Литва и Эстония) категорий 4, 12 и 21 за период с 2005 по 2010 года. \n",
    "Не учитывайте в расчетах отрицательные значения quantity."
   ]
  },
  {
   "cell_type": "code",
   "execution_count": 15,
   "metadata": {},
   "outputs": [],
   "source": [
    "data = pd.read_csv('power.csv')"
   ]
  },
  {
   "cell_type": "code",
   "execution_count": 17,
   "metadata": {},
   "outputs": [
    {
     "name": "stdout",
     "output_type": "stream",
     "text": [
      "240580.0\n"
     ]
    }
   ],
   "source": [
    "data = data[(data['country'] == 'Latvia') | (data['country'] == 'Lithuania') | (data['country'] == 'Estonia')]\n",
    "data = data[(data['category'] == 4) | (data['category'] == 12) | (data['category'] == 21)]\n",
    "data = data[(data['year'] >= 2005)]\n",
    "data = data[(data['year'] <= 2010)]\n",
    "data = data[(data['quantity'] > 0)]\n",
    "print(data.quantity.sum())"
   ]
  },
  {
   "cell_type": "code",
   "execution_count": null,
   "metadata": {},
   "outputs": [],
   "source": [
    "Задание 3\n",
    "Выберите страницу любого сайта с табличными данными. Импортируйте таблицы в pandas dataframe.\n",
    "Примеры страниц (необязательно брать именно эти):"
   ]
  },
  {
   "cell_type": "code",
   "execution_count": 21,
   "metadata": {},
   "outputs": [
    {
     "data": {
      "text/plain": [
       "array(['ВТБ Акции ВТБ', 'Газпром Акции газпрома', 'Лукойл Акции Лукойл',\n",
       "       'Роснефть Акции Роснефти', 'Сбербанк Акции Сбербанка',\n",
       "       'Сургутнефтегаз Акции Сургутнефтегаза',\n",
       "       'Норникель Акции Норникель', 'Аэрофлот Акции Аерофлота',\n",
       "       'Северсталь Акции Северсталь', 'Транснефть Акции Транснефть',\n",
       "       'Ростелеком Курс акций ростелекома', 'РУСАЛ Акции РУСАЛ (RUAL)',\n",
       "       'НМЛК Акции НЛМК (NLMK)', 'Алроса Акции АЛРОСА (ALRS)',\n",
       "       'Магнит Акции Магнит (MGNT)', 'М.видео Акции М.видео (MVID)',\n",
       "       'Газпром нефть Акции \"Газпром нефть\" (SIBN)',\n",
       "       'НМТП Акции НМТП (NMTP)', 'Полиметалл Акции Полиметалл (POLY)',\n",
       "       'Полюс Золото Акции Полюс Золото (PLZL)',\n",
       "       'НОВАТЭК Акции НОВАТЭК (NVTK)', 'РусГидро Акции РусГидро (HYDR)',\n",
       "       'Татнефть Акции Татнефть (TATN)',\n",
       "       'АФК Система Акции АФК \"Система\" (AFKS)', 'МТС Акции МТС',\n",
       "       'Башнефть Акции Башнефть (BANE)', 'Яндекс Акции Яндекс (YNDX)',\n",
       "       'X5 Retail Group Акции X5 Retail Group (FIVE)',\n",
       "       'ФСК ЕЭС Акции ФСК ЕЭС (FEES)', 'Мечел Акции Мечел (MTLR)',\n",
       "       'МосБиржа Акции МосБиржа (MOEX)'], dtype=object)"
      ]
     },
     "execution_count": 21,
     "metadata": {},
     "output_type": "execute_result"
    }
   ],
   "source": [
    "url = 'https://fortrader.org/quotes'\n",
    "d = pd.read_html(url)\n",
    "d = d[3]\n",
    "d.Название.unique()"
   ]
  },
  {
   "cell_type": "code",
   "execution_count": null,
   "metadata": {},
   "outputs": [],
   "source": []
  }
 ],
 "metadata": {
  "kernelspec": {
   "display_name": "Python 3",
   "language": "python",
   "name": "python3"
  },
  "language_info": {
   "codemirror_mode": {
    "name": "ipython",
    "version": 3
   },
   "file_extension": ".py",
   "mimetype": "text/x-python",
   "name": "python",
   "nbconvert_exporter": "python",
   "pygments_lexer": "ipython3",
   "version": "3.7.7"
  }
 },
 "nbformat": 4,
 "nbformat_minor": 4
}
