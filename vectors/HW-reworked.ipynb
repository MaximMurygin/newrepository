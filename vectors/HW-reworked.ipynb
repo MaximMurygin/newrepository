{
 "cells": [
  {
   "cell_type": "markdown",
   "metadata": {},
   "source": [
    "# Домашняя работа №1"
   ]
  },
  {
   "cell_type": "code",
   "execution_count": 84,
   "metadata": {},
   "outputs": [],
   "source": [
    "import numpy as np\n",
    "import pylab as pl\n",
    "import pandas as pd\n",
    "import warnings\n",
    "import math\n",
    "from mpl_toolkits.mplot3d import Axes3D\n",
    "\n",
    "from matplotlib import pyplot as plt\n",
    "from scipy import linalg\n",
    "\n",
    "\n",
    "warnings.filterwarnings(\"ignore\")"
   ]
  },
  {
   "cell_type": "markdown",
   "metadata": {},
   "source": [
    "## Задание 1"
   ]
  },
  {
   "cell_type": "markdown",
   "metadata": {},
   "source": [
    "Изобразите с помощью matplotlib. Изобразите точку x + 2y + 3z. Найдите угол между векторами x, y и x, z. "
   ]
  },
  {
   "cell_type": "code",
   "execution_count": 85,
   "metadata": {},
   "outputs": [],
   "source": [
    "x = np.array([1,1])\n",
    "y = np.array([2,0])\n",
    "z = np.array([0,2])"
   ]
  },
  {
   "cell_type": "code",
   "execution_count": 87,
   "metadata": {},
   "outputs": [
    {
     "data": {
      "text/plain": [
       "(array([2, 2]), array([4, 2]), array([3, 5]))"
      ]
     },
     "execution_count": 87,
     "metadata": {},
     "output_type": "execute_result"
    },
    {
     "data": {
      "image/png": "[encoded data removed]",
      "text/plain": [
       "<Figure size 432x288 with 1 Axes>"
      ]
     },
     "metadata": {
      "needs_background": "light"
     },
     "output_type": "display_data"
    }
   ],
   "source": [
    "x = np.array([1, 1]) + 1\n",
    "y = np.array([2, 0]) + 2\n",
    "z = np.array([0, 2]) + 3\n",
    "plt.plot([x[0],y[0]],[x[1],y[1]])\n",
    "plt.plot([x[0],z[0]],[x[1],z[1]])\n",
    "plt.ylim(0, 8)\n",
    "plt.xlim(0, 8)\n",
    "x, y, z"
   ]
  },
  {
   "cell_type": "code",
   "execution_count": 88,
   "metadata": {},
   "outputs": [
    {
     "name": "stdout",
     "output_type": "stream",
     "text": [
      "длина вектора xy равна 2.0\n"
     ]
    }
   ],
   "source": [
    "len_xy = np.sqrt((y[0]-x[0])**2 + (y[1]-x[1])**2)\n",
    "print(f'длина вектора xy равна {len_xy}')"
   ]
  },
  {
   "cell_type": "code",
   "execution_count": 89,
   "metadata": {},
   "outputs": [
    {
     "name": "stdout",
     "output_type": "stream",
     "text": [
      "длина вектора xz равна 3.1622776601683795\n"
     ]
    }
   ],
   "source": [
    "len_xz = np.sqrt((z[0]-x[0])**2 + (z[1]-x[1])**2)\n",
    "print(f'длина вектора xz равна {len_xz}')"
   ]
  },
  {
   "cell_type": "code",
   "execution_count": 90,
   "metadata": {},
   "outputs": [
    {
     "data": {
      "text/plain": [
       "2"
      ]
     },
     "execution_count": 90,
     "metadata": {},
     "output_type": "execute_result"
    }
   ],
   "source": [
    "m = np.array([y[0]-x[0], y[1] - x[1]])\n",
    "n = np.array([z[0]-x[0], z[1] - x[1]])\n",
    "np.dot(m, n)"
   ]
  },
  {
   "cell_type": "code",
   "execution_count": 91,
   "metadata": {},
   "outputs": [],
   "source": [
    "dot = np.dot(m,n)/(len_xy*len_xz)"
   ]
  },
  {
   "cell_type": "code",
   "execution_count": 94,
   "metadata": {},
   "outputs": [
    {
     "name": "stdout",
     "output_type": "stream",
     "text": [
      "угол равен 71.57 градусов\n"
     ]
    }
   ],
   "source": [
    "ang = np.arccos(dot) * 360 / 2 / np.pi\n",
    "print(f'угол равен {round(ang,2)} градусов')"
   ]
  },
  {
   "cell_type": "markdown",
   "metadata": {},
   "source": [
    "## Задание 2"
   ]
  },
  {
   "cell_type": "markdown",
   "metadata": {},
   "source": [
    "Загрузите модель человека. Найдите расстояние от правой кисти до позвоночника"
   ]
  },
  {
   "cell_type": "code",
   "execution_count": 95,
   "metadata": {},
   "outputs": [],
   "source": [
    "ns = ['type', 'x', 'y', 'z']\n",
    "dfJointsVertexes = pd.read_csv('joints.txt', sep=' ', names = ns)\n",
    "axis_sort = 'x' \n",
    "df = dfJointsVertexes.sort_values(by=[axis_sort])"
   ]
  },
  {
   "cell_type": "code",
   "execution_count": 96,
   "metadata": {},
   "outputs": [
    {
     "data": {
      "text/plain": [
       "<matplotlib.collections.PathCollection at 0x6264563d0>"
      ]
     },
     "execution_count": 96,
     "metadata": {},
     "output_type": "execute_result"
    },
    {
     "data": {
      "image/png": "[encoded data removed]",
      "text/plain": [
       "<Figure size 432x288 with 1 Axes>"
      ]
     },
     "metadata": {
      "needs_background": "light"
     },
     "output_type": "display_data"
    }
   ],
   "source": [
    "plt.scatter(df.x, df.y)"
   ]
  },
  {
   "cell_type": "code",
   "execution_count": 97,
   "metadata": {},
   "outputs": [
    {
     "data": {
      "text/plain": [
       "<matplotlib.legend.Legend at 0x62657f290>"
      ]
     },
     "execution_count": 97,
     "metadata": {},
     "output_type": "execute_result"
    },
    {
     "data": {
      "image/png": "[encoded data removed]",
      "text/plain": [
       "<Figure size 432x288 with 1 Axes>"
      ]
     },
     "metadata": {
      "needs_background": "light"
     },
     "output_type": "display_data"
    }
   ],
   "source": [
    "plt.scatter(df.x, df.y)\n",
    "\n",
    "plt.scatter(df.x[9], df.y[9])\n",
    "plt.scatter(df.x[16], df.y[16])\n",
    "plt.legend(['все параметрические точки', 'точка позвоночника', 'точка кисти'])"
   ]
  },
  {
   "cell_type": "code",
   "execution_count": 98,
   "metadata": {},
   "outputs": [
    {
     "name": "stdout",
     "output_type": "stream",
     "text": [
      "расстояние от точки позвоночника до точки кисти равняется 0.47691945149364584\n"
     ]
    }
   ],
   "source": [
    "dist = math.sqrt(math.pow((df.x[9]-df.x[16]), 2) + math.pow((df.y[9]-df.y[16]), 2) + math.pow((df.z[9]-df.z[16]), 2))\n",
    "print(f'расстояние от точки позвоночника до точки кисти равняется {dist}')"
   ]
  },
  {
   "cell_type": "code",
   "execution_count": 99,
   "metadata": {},
   "outputs": [
    {
     "data": {
      "text/plain": [
       "<matplotlib.legend.Legend at 0x626616350>"
      ]
     },
     "execution_count": 99,
     "metadata": {},
     "output_type": "execute_result"
    },
    {
     "data": {
      "image/png": "[encoded data removed]",
      "text/plain": [
       "<Figure size 432x288 with 1 Axes>"
      ]
     },
     "metadata": {
      "needs_background": "light"
     },
     "output_type": "display_data"
    }
   ],
   "source": [
    "plt.scatter(df.x,df.y)\n",
    "plt.scatter(df.x[9], df.y[9])\n",
    "plt.scatter(df.x[11], df.y[11])\n",
    "plt.scatter(df.x[16], df.y[16])\n",
    "plt.legend(['все параметрические точки', 'точка позвоночника 1','точка позвоночника 2', 'точка кисти'])"
   ]
  },
  {
   "cell_type": "code",
   "execution_count": 100,
   "metadata": {},
   "outputs": [
    {
     "data": {
      "text/plain": [
       "<matplotlib.legend.Legend at 0x62679c410>"
      ]
     },
     "execution_count": 100,
     "metadata": {},
     "output_type": "execute_result"
    },
    {
     "data": {
      "image/png": "[encoded data removed]",
      "text/plain": [
       "<Figure size 432x288 with 1 Axes>"
      ]
     },
     "metadata": {
      "needs_background": "light"
     },
     "output_type": "display_data"
    }
   ],
   "source": [
    "v = np.array([df.x[9] - df.x[11], df.y[9] - df.y[11]])\n",
    "w = np.array([df.x[16],df.y[16]])\n",
    "cv = np.array(df.x[9], df.y[9]) + (np.dot(w,v))/np.dot(v,np.transpose(v))*v\n",
    "plt.plot([w[0],cv[0]],[w[1],cv[1]],'r-',linewidth=1.5)\n",
    "plt.scatter(df.x, df.y)\n",
    "plt.scatter(cv[0], cv[1])\n",
    "plt.scatter(w[0], w[1])\n",
    "plt.legend(['проекция', '', 'cv - точка проекции', 'w - точка плеча'])"
   ]
  },
  {
   "cell_type": "code",
   "execution_count": 56,
   "metadata": {},
   "outputs": [
    {
     "data": {
      "text/plain": [
       "0.3945363610739645"
      ]
     },
     "execution_count": 56,
     "metadata": {},
     "output_type": "execute_result"
    }
   ],
   "source": [
    "linalg.norm(cv - w)"
   ]
  },
  {
   "cell_type": "markdown",
   "metadata": {},
   "source": [
    "# Задание 3"
   ]
  },
  {
   "cell_type": "markdown",
   "metadata": {},
   "source": [
    "Найдите собственные значения и собственные вектора матриц (необходимо решение на numpy). Для матрицы 3x3 можно посмотреть на корни характеристического многочлена, посчитанные в numpy."
   ]
  },
  {
   "cell_type": "code",
   "execution_count": 109,
   "metadata": {},
   "outputs": [
    {
     "data": {
      "text/plain": [
       "((array([1.+0.j, 4.+0.j]),\n",
       "  array([[-0.89442719, -0.70710678],\n",
       "         [ 0.4472136 , -0.70710678]])),\n",
       " (array([3.+0.j, 6.+0.j, 3.+0.j]),\n",
       "  array([[-0.81649658,  0.57735027, -0.27658128],\n",
       "         [ 0.40824829,  0.57735027,  0.8035929 ],\n",
       "         [-0.40824829, -0.57735027,  0.52701162]])))"
      ]
     },
     "execution_count": 109,
     "metadata": {},
     "output_type": "execute_result"
    }
   ],
   "source": [
    "m1 = np.array([[2, 2],\n",
    "               [1, 3]])\n",
    "\n",
    "m2 = np.array([[4, 1, -1],\n",
    "               [1, 4, -1],\n",
    "               [-1, -1, 4]])\n",
    "linalg.eig(m1), linalg.eig(m2)"
   ]
  }
 ],
 "metadata": {
  "kernelspec": {
   "display_name": "Python 3",
   "language": "python",
   "name": "python3"
  },
  "language_info": {
   "codemirror_mode": {
    "name": "ipython",
    "version": 3
   },
   "file_extension": ".py",
   "mimetype": "text/x-python",
   "name": "python",
   "nbconvert_exporter": "python",
   "pygments_lexer": "ipython3",
   "version": "3.7.7"
  }
 },
 "nbformat": 4,
 "nbformat_minor": 2
}
