{
 "cells": [
  {
   "cell_type": "code",
   "execution_count": 1,
   "metadata": {},
   "outputs": [],
   "source": [
    "import pandas as pd"
   ]
  },
  {
   "cell_type": "code",
   "execution_count": 2,
   "metadata": {},
   "outputs": [
    {
     "name": "stdout",
     "output_type": "stream",
     "text": [
      "819 days\n"
     ]
    }
   ],
   "source": [
    "df = pd.read_csv('ratings.csv')\n",
    "ratings_count = df.groupby('userId').agg({'timestamp': ['max', 'min', 'count']})\n",
    "ratings_count = ratings_count[(ratings_count['timestamp','count'] >= 200)]\n",
    "def diff(row):\n",
    "    return row['timestamp', 'max'] - row['timestamp', 'min']\n",
    "ratings_count['diff'] = ratings_count.apply(diff, axis=1)\n",
    "print(int(round(ratings_count['diff'].mean()/3600/24)), 'days')"
   ]
  },
  {
   "cell_type": "code",
   "execution_count": 3,
   "metadata": {},
   "outputs": [
    {
     "name": "stdout",
     "output_type": "stream",
     "text": [
      "   client_id          address  rzd_revenue  auto_revenue  air_revenue\n",
      "0        111  Комсомольская 4       1093.0           NaN          NaN\n",
      "1        112   Энтузиастов 8а       2810.0           NaN          NaN\n",
      "2        113  Левобережная 1а      10283.0       57483.0          NaN\n",
      "3        114          Мира 14       5774.0          83.0          NaN\n",
      "4        115        ЗЖБИиДК 1        981.0         912.0         81.0\n",
      "5        116    Строителей 18          NaN        4834.0          4.0\n",
      "6        117  Панфиловская 33          NaN          98.0         13.0\n",
      "7        118     Мастеркова 4          NaN           NaN        173.0\n"
     ]
    }
   ],
   "source": [
    "rzd = pd.DataFrame(\n",
    "    {\n",
    "        'client_id': [111, 112, 113, 114, 115],\n",
    "        'rzd_revenue': [1093, 2810, 10283, 5774, 981]\n",
    "    }\n",
    ")\n",
    "auto = pd.DataFrame(\n",
    "    {\n",
    "        'client_id': [113, 114, 115, 116, 117],\n",
    "        'auto_revenue': [57483, 83, 912, 4834, 98]\n",
    "    }\n",
    ")\n",
    "air = pd.DataFrame(\n",
    "    {\n",
    "        'client_id': [115, 116, 117, 118],\n",
    "        'air_revenue': [81, 4, 13, 173]\n",
    "    }\n",
    ")\n",
    "client_base = pd.DataFrame(\n",
    "    {\n",
    "        'client_id': [111, 112, 113, 114, 115, 116, 117, 118],\n",
    "        'address': ['Комсомольская 4', 'Энтузиастов 8а', 'Левобережная 1а', 'Мира 14', 'ЗЖБИиДК 1',\n",
    "                    'Строителей 18', 'Панфиловская 33', 'Мастеркова 4']\n",
    "    }\n",
    ")\n",
    "df = (\n",
    "    client_base.merge(rzd, on='client_id', how='left')\n",
    "    .merge(auto, on='client_id', how='left')\n",
    "    .merge(air, on='client_id', how='left')\n",
    ")\n",
    "print(df)"
   ]
  },
  {
   "cell_type": "code",
   "execution_count": 4,
   "metadata": {},
   "outputs": [
    {
     "name": "stdout",
     "output_type": "stream",
     "text": [
      "   client_id  rzd_revenue  auto_revenue  air_revenue\n",
      "0        111       1093.0           NaN          NaN\n",
      "1        112       2810.0           NaN          NaN\n",
      "2        113      10283.0       57483.0          NaN\n",
      "3        114       5774.0          83.0          NaN\n",
      "4        115        981.0         912.0         81.0\n",
      "5        116          NaN        4834.0          4.0\n",
      "6        117          NaN          98.0         13.0\n",
      "7        118          NaN           NaN        173.0\n"
     ]
    }
   ],
   "source": [
    "del df['address']\n",
    "print(df)"
   ]
  },
  {
   "cell_type": "code",
   "execution_count": null,
   "metadata": {},
   "outputs": [],
   "source": []
  }
 ],
 "metadata": {
  "kernelspec": {
   "display_name": "Python 3",
   "language": "python",
   "name": "python3"
  },
  "language_info": {
   "codemirror_mode": {
    "name": "ipython",
    "version": 3
   },
   "file_extension": ".py",
   "mimetype": "text/x-python",
   "name": "python",
   "nbconvert_exporter": "python",
   "pygments_lexer": "ipython3",
   "version": "3.7.7"
  }
 },
 "nbformat": 4,
 "nbformat_minor": 4
}
