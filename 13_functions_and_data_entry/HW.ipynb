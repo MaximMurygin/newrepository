{
 "cells": [
  {
   "cell_type": "code",
   "execution_count": 7,
   "metadata": {},
   "outputs": [
    {
     "name": "stdout",
     "output_type": "stream",
     "text": [
      "    userId  movieId  rating  timestamp class\n",
      "0        1        1     4.0  964982703   mid\n",
      "1        1        3     4.0  964981247   mid\n",
      "2        1        6     4.0  964982224   mid\n",
      "3        1       47     5.0  964983815   top\n",
      "4        1       50     5.0  964982931   top\n",
      "5        1       70     3.0  964982400   mid\n",
      "6        1      101     5.0  964980868   top\n",
      "7        1      110     4.0  964982176   mid\n",
      "8        1      151     5.0  964984041   top\n",
      "9        1      157     5.0  964984100   top\n",
      "10       1      163     5.0  964983650   top\n",
      "11       1      216     5.0  964981208   top\n",
      "12       1      223     3.0  964980985   mid\n",
      "13       1      231     5.0  964981179   top\n",
      "14       1      235     4.0  964980908   mid\n",
      "15       1      260     5.0  964981680   top\n",
      "16       1      296     3.0  964982967   mid\n",
      "17       1      316     3.0  964982310   mid\n",
      "18       1      333     5.0  964981179   top\n",
      "19       1      349     4.0  964982563   mid\n",
      "20       1      356     4.0  964980962   mid\n",
      "21       1      362     5.0  964982588   top\n",
      "22       1      367     4.0  964981710   mid\n",
      "23       1      423     3.0  964982363   mid\n",
      "24       1      441     4.0  964980868   mid\n",
      "25       1      457     5.0  964981909   top\n",
      "26       1      480     4.0  964982346   mid\n",
      "27       1      500     3.0  964981208   mid\n",
      "28       1      527     5.0  964984002   top\n",
      "29       1      543     4.0  964981179   mid\n"
     ]
    }
   ],
   "source": [
    "import pandas as pd\n",
    "\n",
    "df = pd.read_csv('ratings.csv')\n",
    "\n",
    "\n",
    "def classes(rating):\n",
    "    if rating == 5.0 or rating == 4.5:\n",
    "        return 'top'\n",
    "    elif rating <= 4:\n",
    "        return 'mid'\n",
    "    elif rating <= 2:\n",
    "        return 'low'\n",
    "\n",
    "\n",
    "df['class'] = df['rating'].apply(classes)\n",
    "\n",
    "print(df.head(30))"
   ]
  },
  {
   "cell_type": "code",
   "execution_count": 35,
   "metadata": {},
   "outputs": [],
   "source": [
    "geo_data = {\n",
    "\n",
    "    'Центр': ['москва', 'тула', 'ярославль'],\n",
    "\n",
    "    'Северо-Запад': ['петербург', 'псков', 'мурманск'],\n",
    "\n",
    "    'Дальний Восток': ['владивосток', 'сахалин', 'хабаровск']\n",
    "}"
   ]
  },
  {
   "cell_type": "code",
   "execution_count": 38,
   "metadata": {},
   "outputs": [],
   "source": [
    "def region(query):\n",
    "    for k, v in geo_data.items():\n",
    "        for word in query.split(' '):\n",
    "            if word in list(v):\n",
    "                return k\n",
    "    if query not in geo_data.values():\n",
    "        return 'undefined'\n",
    "\n",
    "\n",
    "data['region'] = data['keyword'].apply(region)"
   ]
  },
  {
   "cell_type": "code",
   "execution_count": 39,
   "metadata": {},
   "outputs": [
    {
     "data": {
      "text/plain": [
       "undefined         99464\n",
       "Центр               326\n",
       "Северо-Запад        146\n",
       "Дальний Восток       64\n",
       "Name: region, dtype: int64"
      ]
     },
     "execution_count": 39,
     "metadata": {},
     "output_type": "execute_result"
    }
   ],
   "source": [
    "data['region'].value_counts().head()"
   ]
  },
  {
   "cell_type": "code",
   "execution_count": null,
   "metadata": {},
   "outputs": [],
   "source": []
  },
  {
   "cell_type": "code",
   "execution_count": null,
   "metadata": {},
   "outputs": [],
   "source": []
  }
 ],
 "metadata": {
  "kernelspec": {
   "display_name": "Python 3",
   "language": "python",
   "name": "python3"
  },
  "language_info": {
   "codemirror_mode": {
    "name": "ipython",
    "version": 3
   },
   "file_extension": ".py",
   "mimetype": "text/x-python",
   "name": "python",
   "nbconvert_exporter": "python",
   "pygments_lexer": "ipython3",
   "version": "3.7.7"
  }
 },
 "nbformat": 4,
 "nbformat_minor": 4
}
